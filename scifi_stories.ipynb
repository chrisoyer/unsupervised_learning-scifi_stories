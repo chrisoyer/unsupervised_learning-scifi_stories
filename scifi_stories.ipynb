{
 "cells": [
  {
   "cell_type": "markdown",
   "metadata": {},
   "source": [
    "# Clustering Scifi Stories\n",
    "I scraped these from Tor.com"
   ]
  },
  {
   "cell_type": "code",
   "execution_count": null,
   "metadata": {
    "scrolled": true
   },
   "outputs": [],
   "source": [
    "import scrapy\n",
    "import scrapy.crawler\n",
    "from scrapy.crawler import CrawlerProcess\n",
    "process = CrawlerProcess({'AUTOTHROTTLE_ENABLED': True, # or download delay\n",
    "                          'HTTPCACHE_ENABLED': True, # remove for final scrape to get live data\n",
    "                          'ROBOTSTXT_OBEY': True, \n",
    "                          'USER_AGENT': 'ThinkfulDataScienceBootcampCrawler (thinkful.com)',\n",
    "                          'FEED_URI': 'sf_stories.csv',\n",
    "                          'FEED_FORMAT': 'csv',\n",
    "                          'FEED_EXPORT_ENCODING': '\"utf-8\"'})\n",
    "class TorSpider(scrapy.Spider):\n",
    "    name = 'tors'\n",
    "    base_url = 'https://www.tor.com/category/all-fiction/original-fiction/page/{}'\n",
    "    page = 1\n",
    "    start_urls = [base_url.format(1)]\n",
    "    def parse(self, response):\n",
    "        # example //*[@id=\"post-497584\"]/header/h2/a\n",
    "        for item in response.xpath(\"//*[starts-with(@id,'post-')]/header/h2/a/@href\"):\n",
    "            item_url = response.urljoin(item.extract())\n",
    "            yield scrapy.Request(item_url, callback=self.story)\n",
    "        #if response.xpath(\"//*[@id='infinite-handle']/span/button\").extract():\n",
    "        page = response.request.url[63:64] if response.request.url[63:65].find('/') else response.request.url[63:65]\n",
    "        if page == \"\":\n",
    "            page = 1 \n",
    "        page = int(page)\n",
    "        page += 1\n",
    "        yield scrapy.Request(self.base_url.format(page))\n",
    "                                    \n",
    "    def story(self, response):\n",
    "        # example //*[@id=\"post-497584\"]/div\n",
    "        # //*[@id=\"post-497584\"]/header/h2/a\n",
    "        # //*[@id=\"post-497584\"]/div\n",
    "        yield {'Title': response.xpath(\"//*[starts-with(@id,'post-')]/header/h2/a/text()\").extract(),\n",
    "               'Author': response.xpath(\"//*[starts-with(@id,'post-')]/header/a/text()\").extract(),\n",
    "               #//*[@id=\"post-497584\"]/div/p[7]\n",
    "               'Body': response.xpath(\"//*[starts-with(@id,'post-')]/div/p/text()\").extract()}\n",
    "\n",
    "\n",
    "process.crawl(TorSpider)\n",
    "process.start()"
   ]
  },
  {
   "cell_type": "code",
   "execution_count": 112,
   "metadata": {},
   "outputs": [],
   "source": [
    "import numpy as np\n",
    "import pandas as pd\n",
    "import string\n",
    "from nltk.tokenize import word_tokenize\n",
    "# nltk.download('punkt')\n",
    "\n",
    "from nltk.corpus import stopwords as nltkstopwords\n",
    "from nltk.stem.wordnet import WordNetLemmatizer\n",
    "#nltk.download('wordnet')\n",
    "\n",
    "from nltk import pos_tag\n",
    "\n",
    "from sklearn.feature_extraction.text import TfidfVectorizer\n",
    "from sklearn.cluster import KMeans"
   ]
  },
  {
   "cell_type": "code",
   "execution_count": 76,
   "metadata": {},
   "outputs": [],
   "source": [
    "stories_df = pd.read_csv('sf_stories.csv')"
   ]
  },
  {
   "cell_type": "code",
   "execution_count": 77,
   "metadata": {},
   "outputs": [
    {
     "data": {
      "text/html": [
       "<div>\n",
       "<style scoped>\n",
       "    .dataframe tbody tr th:only-of-type {\n",
       "        vertical-align: middle;\n",
       "    }\n",
       "\n",
       "    .dataframe tbody tr th {\n",
       "        vertical-align: top;\n",
       "    }\n",
       "\n",
       "    .dataframe thead th {\n",
       "        text-align: right;\n",
       "    }\n",
       "</style>\n",
       "<table border=\"1\" class=\"dataframe\">\n",
       "  <thead>\n",
       "    <tr style=\"text-align: right;\">\n",
       "      <th></th>\n",
       "      <th>Title</th>\n",
       "      <th>Author</th>\n",
       "      <th>Body</th>\n",
       "    </tr>\n",
       "  </thead>\n",
       "  <tbody>\n",
       "    <tr>\n",
       "      <th>0</th>\n",
       "      <td>One/Zero</td>\n",
       "      <td>Kathleen Ann Goonan</td>\n",
       "      <td>In war-torn Kurdistan, a group of traumatized ...</td>\n",
       "    </tr>\n",
       "    <tr>\n",
       "      <th>1</th>\n",
       "      <td>Blue Morphos in the Garden</td>\n",
       "      <td>Lis Mitchell</td>\n",
       "      <td>When Vivian and her daughter witness the famil...</td>\n",
       "    </tr>\n",
       "    <tr>\n",
       "      <th>2</th>\n",
       "      <td>Painless</td>\n",
       "      <td>Rich Larson</td>\n",
       "      <td>A man who can’t feel pain has been bioengineer...</td>\n",
       "    </tr>\n",
       "    <tr>\n",
       "      <th>3</th>\n",
       "      <td>Mama Bruise</td>\n",
       "      <td>Jonathan Carroll</td>\n",
       "      <td>A couple is concerned when their dog behaves i...</td>\n",
       "    </tr>\n",
       "    <tr>\n",
       "      <th>4</th>\n",
       "      <td>The Mongolian Wizard Stories,Murder in the Spo...</td>\n",
       "      <td>Michael Swanwick</td>\n",
       "      <td>A brand new story in the Mongolian Wizard univ...</td>\n",
       "    </tr>\n",
       "  </tbody>\n",
       "</table>\n",
       "</div>"
      ],
      "text/plain": [
       "                                               Title               Author  \\\n",
       "0                                           One/Zero  Kathleen Ann Goonan   \n",
       "1                         Blue Morphos in the Garden         Lis Mitchell   \n",
       "2                                           Painless          Rich Larson   \n",
       "3                                        Mama Bruise     Jonathan Carroll   \n",
       "4  The Mongolian Wizard Stories,Murder in the Spo...     Michael Swanwick   \n",
       "\n",
       "                                                Body  \n",
       "0  In war-torn Kurdistan, a group of traumatized ...  \n",
       "1  When Vivian and her daughter witness the famil...  \n",
       "2  A man who can’t feel pain has been bioengineer...  \n",
       "3  A couple is concerned when their dog behaves i...  \n",
       "4  A brand new story in the Mongolian Wizard univ...  "
      ]
     },
     "execution_count": 77,
     "metadata": {},
     "output_type": "execute_result"
    }
   ],
   "source": [
    "stories_df.head()"
   ]
  },
  {
   "cell_type": "code",
   "execution_count": 78,
   "metadata": {},
   "outputs": [
    {
     "data": {
      "text/plain": [
       "1    102\n",
       "2     14\n",
       "3      5\n",
       "4      1\n",
       "Name: Author, dtype: int64"
      ]
     },
     "execution_count": 78,
     "metadata": {},
     "output_type": "execute_result"
    }
   ],
   "source": [
    "stories_df[\"Author\"].value_counts().value_counts()"
   ]
  },
  {
   "cell_type": "code",
   "execution_count": 101,
   "metadata": {},
   "outputs": [],
   "source": [
    "stopwords = nltkstopwords.words('english')\n",
    "punct = set(string.punctuation)\n",
    "lem = WordNetLemmatizer()\n",
    "def text_cleaner(text):\n",
    "    text = text.lower()\n",
    "    cleantext1 = \" \".join(word for word in text.split() if word not in punct)\n",
    "    cleantext2 = \" \".join(word for word in cleantext1.split() if word not in stopwords)\n",
    "    \n",
    "    def lem_and_token(txt):\n",
    "        '''tokenizes, and lemmatizes based on word position'''\n",
    "        return [lem.lemmatize(i,j[0].lower()) if j[0].lower() in ['a','n','v'] else lem.lemmatize(i) \\\n",
    "                 for i, j in pos_tag(word_tokenize(txt))]\n",
    "\n",
    "    cleantext3 = lem_and_token(cleantext2)\n",
    "    return cleantext3"
   ]
  },
  {
   "cell_type": "code",
   "execution_count": 102,
   "metadata": {},
   "outputs": [],
   "source": [
    "stories_df[\"tokenized_words\"] = stories_df.Body.apply(text_cleaner)"
   ]
  },
  {
   "cell_type": "code",
   "execution_count": 103,
   "metadata": {},
   "outputs": [
    {
     "data": {
      "text/html": [
       "<div>\n",
       "<style scoped>\n",
       "    .dataframe tbody tr th:only-of-type {\n",
       "        vertical-align: middle;\n",
       "    }\n",
       "\n",
       "    .dataframe tbody tr th {\n",
       "        vertical-align: top;\n",
       "    }\n",
       "\n",
       "    .dataframe thead th {\n",
       "        text-align: right;\n",
       "    }\n",
       "</style>\n",
       "<table border=\"1\" class=\"dataframe\">\n",
       "  <thead>\n",
       "    <tr style=\"text-align: right;\">\n",
       "      <th></th>\n",
       "      <th>Title</th>\n",
       "      <th>Author</th>\n",
       "      <th>Body</th>\n",
       "      <th>tokenzied_words</th>\n",
       "      <th>tokenized_words</th>\n",
       "    </tr>\n",
       "  </thead>\n",
       "  <tbody>\n",
       "    <tr>\n",
       "      <th>0</th>\n",
       "      <td>One/Zero</td>\n",
       "      <td>Kathleen Ann Goonan</td>\n",
       "      <td>In war-torn Kurdistan, a group of traumatized ...</td>\n",
       "      <td>war-torn kurdistan , group traumatize orphan g...</td>\n",
       "      <td>[war-torn, kurdistan, ,, group, traumatize, or...</td>\n",
       "    </tr>\n",
       "    <tr>\n",
       "      <th>1</th>\n",
       "      <td>Blue Morphos in the Garden</td>\n",
       "      <td>Lis Mitchell</td>\n",
       "      <td>When Vivian and her daughter witness the famil...</td>\n",
       "      <td>vivian daughter witness family matriarch die w...</td>\n",
       "      <td>[vivian, daughter, witness, family, matriarch,...</td>\n",
       "    </tr>\n",
       "    <tr>\n",
       "      <th>2</th>\n",
       "      <td>Painless</td>\n",
       "      <td>Rich Larson</td>\n",
       "      <td>A man who can’t feel pain has been bioengineer...</td>\n",
       "      <td>man can ’ t feel pain bioengineered kill machi...</td>\n",
       "      <td>[man, can, ’, t, feel, pain, bioengineered, ki...</td>\n",
       "    </tr>\n",
       "    <tr>\n",
       "      <th>3</th>\n",
       "      <td>Mama Bruise</td>\n",
       "      <td>Jonathan Carroll</td>\n",
       "      <td>A couple is concerned when their dog behaves i...</td>\n",
       "      <td>couple concerned dog behaves increasingly biza...</td>\n",
       "      <td>[couple, concerned, dog, behaves, increasingly...</td>\n",
       "    </tr>\n",
       "    <tr>\n",
       "      <th>4</th>\n",
       "      <td>The Mongolian Wizard Stories,Murder in the Spo...</td>\n",
       "      <td>Michael Swanwick</td>\n",
       "      <td>A brand new story in the Mongolian Wizard univ...</td>\n",
       "      <td>brand new story mongolian wizard universe. , ,...</td>\n",
       "      <td>[brand, new, story, mongolian, wizard, univers...</td>\n",
       "    </tr>\n",
       "  </tbody>\n",
       "</table>\n",
       "</div>"
      ],
      "text/plain": [
       "                                               Title               Author  \\\n",
       "0                                           One/Zero  Kathleen Ann Goonan   \n",
       "1                         Blue Morphos in the Garden         Lis Mitchell   \n",
       "2                                           Painless          Rich Larson   \n",
       "3                                        Mama Bruise     Jonathan Carroll   \n",
       "4  The Mongolian Wizard Stories,Murder in the Spo...     Michael Swanwick   \n",
       "\n",
       "                                                Body  \\\n",
       "0  In war-torn Kurdistan, a group of traumatized ...   \n",
       "1  When Vivian and her daughter witness the famil...   \n",
       "2  A man who can’t feel pain has been bioengineer...   \n",
       "3  A couple is concerned when their dog behaves i...   \n",
       "4  A brand new story in the Mongolian Wizard univ...   \n",
       "\n",
       "                                     tokenzied_words  \\\n",
       "0  war-torn kurdistan , group traumatize orphan g...   \n",
       "1  vivian daughter witness family matriarch die w...   \n",
       "2  man can ’ t feel pain bioengineered kill machi...   \n",
       "3  couple concerned dog behaves increasingly biza...   \n",
       "4  brand new story mongolian wizard universe. , ,...   \n",
       "\n",
       "                                     tokenized_words  \n",
       "0  [war-torn, kurdistan, ,, group, traumatize, or...  \n",
       "1  [vivian, daughter, witness, family, matriarch,...  \n",
       "2  [man, can, ’, t, feel, pain, bioengineered, ki...  \n",
       "3  [couple, concerned, dog, behaves, increasingly...  \n",
       "4  [brand, new, story, mongolian, wizard, univers...  "
      ]
     },
     "execution_count": 103,
     "metadata": {},
     "output_type": "execute_result"
    }
   ],
   "source": [
    "stories_df.head()"
   ]
  },
  {
   "cell_type": "code",
   "execution_count": 110,
   "metadata": {},
   "outputs": [],
   "source": [
    "# term frequency-inverse document frequncy\n",
    "vectorizer = TfidfVectorizer(stop_words='english')\n",
    "X_tfid = vectorizer.fit_transform(stories_df.tokenized_words.apply(lambda x: \" \".join(x)))"
   ]
  },
  {
   "cell_type": "code",
   "execution_count": null,
   "metadata": {},
   "outputs": [],
   "source": [
    "# k-means++ givens evenly distributed starting pts\n",
    "kmean = KMeans(n_clusters=5, init='k-means++', max_iter=200, n_init=100)\n",
    "kmean.fit(X_tfid)"
   ]
  },
  {
   "cell_type": "code",
   "execution_count": null,
   "metadata": {},
   "outputs": [],
   "source": []
  }
 ],
 "metadata": {
  "kernelspec": {
   "display_name": "Python 3",
   "language": "python",
   "name": "python3"
  },
  "language_info": {
   "codemirror_mode": {
    "name": "ipython",
    "version": 3
   },
   "file_extension": ".py",
   "mimetype": "text/x-python",
   "name": "python",
   "nbconvert_exporter": "python",
   "pygments_lexer": "ipython3",
   "version": "3.7.4"
  }
 },
 "nbformat": 4,
 "nbformat_minor": 2
}

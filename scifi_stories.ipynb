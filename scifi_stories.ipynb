{
 "cells": [
  {
   "cell_type": "markdown",
   "metadata": {},
   "source": [
    "# Clustering Scifi Stories\n",
    "I scraped these from Tor.com"
   ]
  },
  {
   "cell_type": "code",
   "execution_count": null,
   "metadata": {
    "scrolled": false
   },
   "outputs": [],
   "source": [
    "import scrapy\n",
    "import scrapy.crawler\n",
    "from scrapy.crawler import CrawlerProcess\n",
    "process = CrawlerProcess({'AUTOTHROTTLE_ENABLED': True, # or download delay\n",
    "                          'HTTPCACHE_ENABLED': True, # remove for final scrape to get live data\n",
    "                          'ROBOTSTXT_OBEY': True, \n",
    "                          'USER_AGENT': 'ThinkfulDataScienceBootcampCrawler (thinkful.com)' })\n",
    "class TorSpider(scrapy.Spider):\n",
    "    name = 'tors'\n",
    "    start_urls = ['https://www.tor.com/category/all-fiction/original-fiction/']\n",
    "    def parse(self, response):\n",
    "        for item in response.xpath('//*/header/h2/a'):\n",
    "            print(item)\n",
    "            yield scrapy.Request(item, callback=story)\n",
    "\n",
    "    def story(self, response):\n",
    "        yield {'Title': response.xpath('//*/header/h2[2]/a.text()').extract(),\n",
    "               'Author': response.xpath('//*/header/a.text()').extract(),\n",
    "               'Body': response.xpath('//*/div').extract()}\n",
    "\n",
    "\n",
    "process.crawl(TorSpider)\n",
    "process.start()"
   ]
  },
  {
   "cell_type": "code",
   "execution_count": null,
   "metadata": {},
   "outputs": [],
   "source": []
  }
 ],
 "metadata": {
  "kernelspec": {
   "display_name": "Python 3",
   "language": "python",
   "name": "python3"
  },
  "language_info": {
   "codemirror_mode": {
    "name": "ipython",
    "version": 3
   },
   "file_extension": ".py",
   "mimetype": "text/x-python",
   "name": "python",
   "nbconvert_exporter": "python",
   "pygments_lexer": "ipython3",
   "version": "3.7.4"
  }
 },
 "nbformat": 4,
 "nbformat_minor": 2
}

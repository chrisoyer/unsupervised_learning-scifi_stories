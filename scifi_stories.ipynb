{
 "cells": [
  {
   "cell_type": "markdown",
   "metadata": {},
   "source": [
    "# Clustering Scifi Stories\n",
    "I scraped these from Tor.com"
   ]
  },
  {
   "cell_type": "markdown",
   "metadata": {},
   "source": [
    "### Instructions:\n",
    "\n",
    "Pick texts: >100 entries, >10 authors, similar type of texts.\n",
    "\n",
    "Reserve 25% of your corpus as a test set.\n",
    "\n",
    "The first technique is to create a series of clusters. Try several techniques and pick the one you think best represents your data. Make sure there is a narrative and reasoning around why you have chosen the given clusters. Are authors consistently grouped into the same cluster?\n",
    "\n",
    "Next, perform some unsupervised feature generation and selection using the techniques covered in this unit and elsewhere in the course. Using those features then build models to attempt to classify your texts by author. Try different permutations of unsupervised and supervised techniques to see which combinations have the best performance.\n",
    "\n",
    "Lastly return to your holdout group. Does your clustering on those members perform as you'd expect? Have your clusters remained stable or changed dramatically? What about your model? Is it's performance consistent?\n",
    "\n",
    "If there is a divergence in the relative stability of your model and your clusters, delve into why.\n",
    "\n",
    "Your end result should be a write up of how clustering and modeling compare for classifying your texts. What are the advantages of each? Why would you want to use one over the other? Approximately 3-5 pages is a good length for your write up, and remember to include visuals to help tell your story!"
   ]
  },
  {
   "cell_type": "markdown",
   "metadata": {},
   "source": [
    "### Instruction B\n",
    "A. Start\n",
    "1. Go out and find a dataset of interest. It could be one that helps you work on one of our recommended research questions, or any other dataset that addresses an unsupervised learning question of your own.\n",
    "2. Explore the data. Get to know the data. Spend a lot of time going over its quirks and peccadilloes. You should understand how it was gathered, what's in it, and what the variables look like.\n",
    "3. You should try several different approaches and really work to tune a variety of models before choosing what you consider to be the best performer.\n",
    "\n",
    "B.Things to keep in mind: \n",
    "4. how do clustering and modeling compare? What are the advantages of each? Why would you want to use one over the other?\n",
    "Go out and find a dataset of interest. It could be one that helps you work on one of our recommended research questions, or any other dataset that addresses an unsupervised learning question of your own.\n",
    "5. Explore the data. Get to know the data. Spend a lot of time going over its quirks and peccadilloes. You should understand how it was gathered, what's in it, and what the variables look like.\n",
    "6. You should try several different approaches and really work to tune a variety of models before choosing what you consider to be the best performer.\n",
    "7. Things to keep in mind: how do clustering and modeling compare? What are the advantages of each? Why would you want to use one over the other?\n",
    "\n",
    "C. Be prepared to talk about:\n",
    "1. Your end-user and the value your project provides to them.\n",
    "1. Quantifiable results based on the research you’ve conducted.\n",
    "1. The visuals you chose and what they represent for your research.\n",
    "1. Next steps you'd take to expand on your work.\n",
    "1. A specified research question your model addresses.\n",
    "1. How you chose your model specification and what alternatives you compared it to.\n",
    "1. The practical uses of your model for an audience of interest.\n",
    "1. Any weak points or shortcomings of your model.\n"
   ]
  },
  {
   "cell_type": "markdown",
   "metadata": {},
   "source": [
    "# Data Scraping"
   ]
  },
  {
   "cell_type": "code",
   "execution_count": null,
   "metadata": {
    "scrolled": true
   },
   "outputs": [],
   "source": [
    "import scrapy\n",
    "import scrapy.crawler\n",
    "from scrapy.crawler import CrawlerProcess\n",
    "process = CrawlerProcess({'AUTOTHROTTLE_ENABLED': True, # or download delay\n",
    "                          'HTTPCACHE_ENABLED': True, # remove for final scrape to get live data\n",
    "                          'ROBOTSTXT_OBEY': True, \n",
    "                          'USER_AGENT': 'ThinkfulDataScienceBootcampCrawler (thinkful.com)',\n",
    "                          'FEED_URI': 'sf_stories.csv',\n",
    "                          'FEED_FORMAT': 'csv',\n",
    "                          'FEED_EXPORT_ENCODING': '\"utf-8\"'})\n",
    "class TorSpider(scrapy.Spider):\n",
    "    name = 'tors'\n",
    "    base_url = 'https://www.tor.com/category/all-fiction/original-fiction/page/{}'\n",
    "    page = 1\n",
    "    start_urls = [base_url.format(1), base_url.format(2)]] #first url lacks number\n",
    "    def parse(self, response):\n",
    "        # example //*[@id=\"post-497584\"]/header/h2/a\n",
    "        for item in response.xpath(\"//*[starts-with(@id,'post-')]/header/h2/a/@href\"):\n",
    "            item_url = response.urljoin(item.extract())\n",
    "            yield scrapy.Request(item_url, callback=self.story)\n",
    "        #if response.xpath(\"//*[@id='infinite-handle']/span/button\").extract():\n",
    "        #page = response.request.url[63:64] if response.request.url[63:].find('/') else response.request.url[63:65]\n",
    "        page = response.request.url[63:(response.request.url[63:].find('/'))]\n",
    "        if page == \"\":\n",
    "            page = 1 \n",
    "        page = int(page)\n",
    "        page += 1\n",
    "        yield scrapy.Request(self.base_url.format(page))\n",
    "                                    \n",
    "    def story(self, response):\n",
    "        # example //*[@id=\"post-497584\"]/div\n",
    "        # //*[@id=\"post-497584\"]/header/h2/a\n",
    "        # //*[@id=\"post-497584\"]/div\n",
    "        yield {'Title': response.xpath(\"//*[starts-with(@id,'post-')]/header/h2/a/text()\").extract(),\n",
    "               'Author': response.xpath(\"//*[starts-with(@id,'post-')]/header/a/text()\").extract(),\n",
    "               #//*[@id=\"post-497584\"]/div/p[7]\n",
    "               'Body': response.xpath(\"//*[starts-with(@id,'post-')]/div/p/text()\").extract()}\n",
    "\n",
    "\n",
    "process.crawl(TorSpider)\n",
    "process.start()"
   ]
  },
  {
   "cell_type": "markdown",
   "metadata": {},
   "source": [
    "# Setup"
   ]
  },
  {
   "cell_type": "code",
   "execution_count": 290,
   "metadata": {},
   "outputs": [],
   "source": [
    "import numpy as np\n",
    "import pandas as pd\n",
    "import matplotlib.pyplot as plt\n",
    "import seaborn as sns\n",
    "import string\n",
    "from scipy.sparse import hstack\n",
    "\n",
    "from nltk.tokenize import word_tokenize\n",
    "# nltk.download('punkt')\n",
    "\n",
    "from nltk.stem.wordnet import WordNetLemmatizer\n",
    "#nltk.download('wordnet')\n",
    "\n",
    "from nltk import pos_tag\n",
    "from nltk.corpus import stopwords as nltkstopwords\n",
    "from nltk import bigrams\n",
    "\n",
    "from sklearn.feature_extraction.text import TfidfVectorizer\n",
    "from sklearn.decomposition import PCA\n",
    "from sklearn.preprocessing import normalize\n",
    "from sklearn.model_selection import train_test_split\n",
    "from sklearn.cluster import KMeans\n",
    "from sklearn.cluster import DBSCAN\n",
    "from sklearn.cluster import AffinityPropagation\n",
    "from sklearn.metrics import silhouette_score\n",
    "from sklearn.metrics import pairwise_distances\n",
    "from sklearn.metrics import adjusted_rand_score\n",
    "\n",
    "#classifiers\n",
    "from sklearn.linear_model import LogisticRegression\n",
    "from sklearn.naive_bayes import MultinomialNB\n",
    "from sklearn.neighbors import KNeighborsClassifier\n"
   ]
  },
  {
   "cell_type": "markdown",
   "metadata": {},
   "source": [
    "# Exploration"
   ]
  },
  {
   "cell_type": "code",
   "execution_count": 300,
   "metadata": {},
   "outputs": [],
   "source": [
    "stories_df = pd.read_csv('sf_stories.csv')"
   ]
  },
  {
   "cell_type": "code",
   "execution_count": 301,
   "metadata": {},
   "outputs": [
    {
     "data": {
      "text/html": [
       "<div>\n",
       "<style scoped>\n",
       "    .dataframe tbody tr th:only-of-type {\n",
       "        vertical-align: middle;\n",
       "    }\n",
       "\n",
       "    .dataframe tbody tr th {\n",
       "        vertical-align: top;\n",
       "    }\n",
       "\n",
       "    .dataframe thead th {\n",
       "        text-align: right;\n",
       "    }\n",
       "</style>\n",
       "<table border=\"1\" class=\"dataframe\">\n",
       "  <thead>\n",
       "    <tr style=\"text-align: right;\">\n",
       "      <th></th>\n",
       "      <th>Title</th>\n",
       "      <th>Author</th>\n",
       "      <th>Body</th>\n",
       "    </tr>\n",
       "  </thead>\n",
       "  <tbody>\n",
       "    <tr>\n",
       "      <th>0</th>\n",
       "      <td>One/Zero</td>\n",
       "      <td>Kathleen Ann Goonan</td>\n",
       "      <td>In war-torn Kurdistan, a group of traumatized ...</td>\n",
       "    </tr>\n",
       "    <tr>\n",
       "      <th>1</th>\n",
       "      <td>Blue Morphos in the Garden</td>\n",
       "      <td>Lis Mitchell</td>\n",
       "      <td>When Vivian and her daughter witness the famil...</td>\n",
       "    </tr>\n",
       "    <tr>\n",
       "      <th>2</th>\n",
       "      <td>Painless</td>\n",
       "      <td>Rich Larson</td>\n",
       "      <td>A man who can’t feel pain has been bioengineer...</td>\n",
       "    </tr>\n",
       "    <tr>\n",
       "      <th>3</th>\n",
       "      <td>Mama Bruise</td>\n",
       "      <td>Jonathan Carroll</td>\n",
       "      <td>A couple is concerned when their dog behaves i...</td>\n",
       "    </tr>\n",
       "    <tr>\n",
       "      <th>4</th>\n",
       "      <td>The Mongolian Wizard Stories,Murder in the Spo...</td>\n",
       "      <td>Michael Swanwick</td>\n",
       "      <td>A brand new story in the Mongolian Wizard univ...</td>\n",
       "    </tr>\n",
       "  </tbody>\n",
       "</table>\n",
       "</div>"
      ],
      "text/plain": [
       "                                               Title               Author  \\\n",
       "0                                           One/Zero  Kathleen Ann Goonan   \n",
       "1                         Blue Morphos in the Garden         Lis Mitchell   \n",
       "2                                           Painless          Rich Larson   \n",
       "3                                        Mama Bruise     Jonathan Carroll   \n",
       "4  The Mongolian Wizard Stories,Murder in the Spo...     Michael Swanwick   \n",
       "\n",
       "                                                Body  \n",
       "0  In war-torn Kurdistan, a group of traumatized ...  \n",
       "1  When Vivian and her daughter witness the famil...  \n",
       "2  A man who can’t feel pain has been bioengineer...  \n",
       "3  A couple is concerned when their dog behaves i...  \n",
       "4  A brand new story in the Mongolian Wizard univ...  "
      ]
     },
     "execution_count": 301,
     "metadata": {},
     "output_type": "execute_result"
    }
   ],
   "source": [
    "stories_df.head()"
   ]
  },
  {
   "cell_type": "code",
   "execution_count": 302,
   "metadata": {},
   "outputs": [
    {
     "data": {
      "text/plain": [
       "Rich Larson                        4\n",
       "Max Gladstone                      3\n",
       "Jonathan Carroll                   3\n",
       "Julianna Baggott                   3\n",
       "Lavie Tidhar                       3\n",
       "                                  ..\n",
       "A.C. Wise                          1\n",
       "Annalee Newitz                     1\n",
       "Yoon Ha Lee                        1\n",
       "Caroline Spector,Bradley Denton    1\n",
       "Ploy Pirapokin                     1\n",
       "Name: Author, Length: 122, dtype: int64"
      ]
     },
     "execution_count": 302,
     "metadata": {},
     "output_type": "execute_result"
    }
   ],
   "source": [
    "stories_df.Author.value_counts()"
   ]
  },
  {
   "cell_type": "code",
   "execution_count": 303,
   "metadata": {},
   "outputs": [
    {
     "data": {
      "text/plain": [
       "1    102\n",
       "2     14\n",
       "3      5\n",
       "4      1\n",
       "Name: Author, dtype: int64"
      ]
     },
     "execution_count": 303,
     "metadata": {},
     "output_type": "execute_result"
    }
   ],
   "source": [
    "stories_df[\"Author\"].value_counts().value_counts()"
   ]
  },
  {
   "cell_type": "markdown",
   "metadata": {},
   "source": [
    "# Cleaning and Processing"
   ]
  },
  {
   "cell_type": "code",
   "execution_count": 304,
   "metadata": {},
   "outputs": [],
   "source": [
    "stopwords = nltkstopwords.words('english')\n",
    "punct = set(string.punctuation)\n",
    "lem = WordNetLemmatizer()\n",
    "def text_cleaner(text):\n",
    "    text = text.lower()\n",
    "    cleantext1 = \" \".join(word for word in text.split() if word not in punct)\n",
    "    cleantext2 = \" \".join(word for word in cleantext1.split() if word not in stopwords)\n",
    "    \n",
    "    def lem_and_token(txt):\n",
    "        '''tokenizes, and lemmatizes based on word position'''\n",
    "        return [lem.lemmatize(i,j[0].lower()) if j[0].lower() in ['a','n','v'] else lem.lemmatize(i) \\\n",
    "                 for i, j in pos_tag(word_tokenize(txt))]\n",
    "\n",
    "    cleantext3 = lem_and_token(cleantext2)\n",
    "    return cleantext3"
   ]
  },
  {
   "cell_type": "code",
   "execution_count": 305,
   "metadata": {},
   "outputs": [],
   "source": [
    "stories_df[\"tokenized_words\"] = stories_df.Body.apply(text_cleaner)"
   ]
  },
  {
   "cell_type": "code",
   "execution_count": 306,
   "metadata": {},
   "outputs": [
    {
     "data": {
      "text/html": [
       "<div>\n",
       "<style scoped>\n",
       "    .dataframe tbody tr th:only-of-type {\n",
       "        vertical-align: middle;\n",
       "    }\n",
       "\n",
       "    .dataframe tbody tr th {\n",
       "        vertical-align: top;\n",
       "    }\n",
       "\n",
       "    .dataframe thead th {\n",
       "        text-align: right;\n",
       "    }\n",
       "</style>\n",
       "<table border=\"1\" class=\"dataframe\">\n",
       "  <thead>\n",
       "    <tr style=\"text-align: right;\">\n",
       "      <th></th>\n",
       "      <th>Title</th>\n",
       "      <th>Author</th>\n",
       "      <th>Body</th>\n",
       "      <th>tokenized_words</th>\n",
       "    </tr>\n",
       "  </thead>\n",
       "  <tbody>\n",
       "    <tr>\n",
       "      <th>0</th>\n",
       "      <td>One/Zero</td>\n",
       "      <td>Kathleen Ann Goonan</td>\n",
       "      <td>In war-torn Kurdistan, a group of traumatized ...</td>\n",
       "      <td>[war-torn, kurdistan, ,, group, traumatize, or...</td>\n",
       "    </tr>\n",
       "    <tr>\n",
       "      <th>1</th>\n",
       "      <td>Blue Morphos in the Garden</td>\n",
       "      <td>Lis Mitchell</td>\n",
       "      <td>When Vivian and her daughter witness the famil...</td>\n",
       "      <td>[vivian, daughter, witness, family, matriarch,...</td>\n",
       "    </tr>\n",
       "    <tr>\n",
       "      <th>2</th>\n",
       "      <td>Painless</td>\n",
       "      <td>Rich Larson</td>\n",
       "      <td>A man who can’t feel pain has been bioengineer...</td>\n",
       "      <td>[man, can, ’, t, feel, pain, bioengineered, ki...</td>\n",
       "    </tr>\n",
       "    <tr>\n",
       "      <th>3</th>\n",
       "      <td>Mama Bruise</td>\n",
       "      <td>Jonathan Carroll</td>\n",
       "      <td>A couple is concerned when their dog behaves i...</td>\n",
       "      <td>[couple, concerned, dog, behaves, increasingly...</td>\n",
       "    </tr>\n",
       "    <tr>\n",
       "      <th>4</th>\n",
       "      <td>The Mongolian Wizard Stories,Murder in the Spo...</td>\n",
       "      <td>Michael Swanwick</td>\n",
       "      <td>A brand new story in the Mongolian Wizard univ...</td>\n",
       "      <td>[brand, new, story, mongolian, wizard, univers...</td>\n",
       "    </tr>\n",
       "  </tbody>\n",
       "</table>\n",
       "</div>"
      ],
      "text/plain": [
       "                                               Title               Author  \\\n",
       "0                                           One/Zero  Kathleen Ann Goonan   \n",
       "1                         Blue Morphos in the Garden         Lis Mitchell   \n",
       "2                                           Painless          Rich Larson   \n",
       "3                                        Mama Bruise     Jonathan Carroll   \n",
       "4  The Mongolian Wizard Stories,Murder in the Spo...     Michael Swanwick   \n",
       "\n",
       "                                                Body  \\\n",
       "0  In war-torn Kurdistan, a group of traumatized ...   \n",
       "1  When Vivian and her daughter witness the famil...   \n",
       "2  A man who can’t feel pain has been bioengineer...   \n",
       "3  A couple is concerned when their dog behaves i...   \n",
       "4  A brand new story in the Mongolian Wizard univ...   \n",
       "\n",
       "                                     tokenized_words  \n",
       "0  [war-torn, kurdistan, ,, group, traumatize, or...  \n",
       "1  [vivian, daughter, witness, family, matriarch,...  \n",
       "2  [man, can, ’, t, feel, pain, bioengineered, ki...  \n",
       "3  [couple, concerned, dog, behaves, increasingly...  \n",
       "4  [brand, new, story, mongolian, wizard, univers...  "
      ]
     },
     "execution_count": 306,
     "metadata": {},
     "output_type": "execute_result"
    }
   ],
   "source": [
    "stories_df.head()"
   ]
  },
  {
   "cell_type": "code",
   "execution_count": 307,
   "metadata": {},
   "outputs": [],
   "source": [
    "#Create bigrams feature\n",
    "stories_df[\"bgrams\"] = stories_df.tokenized_words.apply(lambda x: list(bigrams(x)))"
   ]
  },
  {
   "cell_type": "code",
   "execution_count": 308,
   "metadata": {},
   "outputs": [],
   "source": [
    "# term frequency-inverse document frequncy\n",
    "vectorizer = TfidfVectorizer(stop_words='english')"
   ]
  },
  {
   "cell_type": "code",
   "execution_count": 310,
   "metadata": {},
   "outputs": [],
   "source": [
    "X_tfidf = vectorizer.fit_transform(stories_df.tokenized_words.apply(lambda x: \" \".join(x)))"
   ]
  },
  {
   "cell_type": "raw",
   "metadata": {},
   "source": [
    "#adding this causes worse performance\n",
    "X_tfidf = hstack([vectorizer.fit_transform(stories_df.bgrams.apply(lambda x: \" \".join(x[0] + x[1])))])"
   ]
  },
  {
   "cell_type": "code",
   "execution_count": 311,
   "metadata": {},
   "outputs": [],
   "source": [
    "X_tfidf_tr, X_tfidf_te, y_train, y_test = train_test_split(X_tfidf, stories_df.Author, test_size=.25)"
   ]
  },
  {
   "cell_type": "markdown",
   "metadata": {},
   "source": [
    "# Clustering"
   ]
  },
  {
   "cell_type": "code",
   "execution_count": 312,
   "metadata": {},
   "outputs": [
    {
     "data": {
      "text/plain": [
       "KMeans(algorithm='auto', copy_x=True, init='k-means++', max_iter=200,\n",
       "       n_clusters=10, n_init=100, n_jobs=None, precompute_distances='auto',\n",
       "       random_state=None, tol=0.0001, verbose=0)"
      ]
     },
     "execution_count": 312,
     "metadata": {},
     "output_type": "execute_result"
    }
   ],
   "source": [
    "# k-means++ givens evenly distributed starting pts\n",
    "kmean = KMeans(n_clusters=10, init='k-means++', max_iter=200, n_init=100)\n",
    "kmean.fit(X_tfidf_tr)"
   ]
  },
  {
   "cell_type": "code",
   "execution_count": 313,
   "metadata": {},
   "outputs": [],
   "source": [
    "X_tfidf_norm = normalize(X_tfidf_tr.toarray())\n",
    "X_tfidf_pca = PCA(2).fit_transform(X_tfidf_norm)\n",
    "\n",
    "def visualize_clusters(model, name, Xpca=X_tfidf_pca, X=X_tfidf_tr):\n",
    "    '''shows cluster on 2d plot of top 2 principal components'''\n",
    "    y_pred = model.fit_predict(X)\n",
    "    y_pred = pd.Series(y_pred).apply(lambda x: chr(x+97)) # stop sns using sequential color palette\n",
    "\n",
    "    sns.set_style('darkgrid')\n",
    "    sns.set_palette('deep')\n",
    "    sns.scatterplot(x=Xpca[:, 0], y=Xpca[:, 1], hue=y_pred)\n",
    "    plt.title(\"Clusters from {}\".format(name));"
   ]
  },
  {
   "cell_type": "code",
   "execution_count": 314,
   "metadata": {},
   "outputs": [
    {
     "data": {
      "image/png": "[encoded data removed]",
      "text/plain": [
       "<Figure size 432x288 with 1 Axes>"
      ]
     },
     "metadata": {},
     "output_type": "display_data"
    }
   ],
   "source": [
    "k_means5 = KMeans(n_clusters=5, init='k-means++', max_iter=200, n_init=100)\n",
    "visualize_clusters(k_means5, \"KMeans: 5 Clusters\");"
   ]
  },
  {
   "cell_type": "code",
   "execution_count": 315,
   "metadata": {},
   "outputs": [
    {
     "data": {
      "image/png": "[encoded data removed]",
      "text/plain": [
       "<Figure size 432x288 with 1 Axes>"
      ]
     },
     "metadata": {},
     "output_type": "display_data"
    }
   ],
   "source": [
    "k_means10 = KMeans(n_clusters=10, init='k-means++', max_iter=200, n_init=100)\n",
    "visualize_clusters(k_means10, \"KMeans: 10 Clusters\");"
   ]
  },
  {
   "cell_type": "code",
   "execution_count": 316,
   "metadata": {},
   "outputs": [
    {
     "data": {
      "image/png": "[encoded data removed]",
      "text/plain": [
       "<Figure size 432x288 with 1 Axes>"
      ]
     },
     "metadata": {},
     "output_type": "display_data"
    }
   ],
   "source": [
    "#DBSCAN was very sensitive to eps, \n",
    "#only small range of hypers worked to segment into a set of clusters with multiple points\n",
    "DBs1 = DBSCAN(eps=1.3)\n",
    "visualize_clusters(DBs1, \"DBSCAN Clusters, Max Distance=1.3\");"
   ]
  },
  {
   "cell_type": "code",
   "execution_count": 317,
   "metadata": {
    "scrolled": true
   },
   "outputs": [
    {
     "data": {
      "image/png": "[encoded data removed]",
      "text/plain": [
       "<Figure size 432x288 with 1 Axes>"
      ]
     },
     "metadata": {},
     "output_type": "display_data"
    }
   ],
   "source": [
    "DBs2 = DBSCAN(eps=1.2)\n",
    "visualize_clusters(DBs2, \"DBSCAN Clusters, Max Distance=1.2\");"
   ]
  },
  {
   "cell_type": "code",
   "execution_count": 318,
   "metadata": {},
   "outputs": [
    {
     "data": {
      "image/png": "[encoded data removed]",
      "text/plain": [
       "<Figure size 432x288 with 1 Axes>"
      ]
     },
     "metadata": {},
     "output_type": "display_data"
    }
   ],
   "source": [
    "affprop = AffinityPropagation()\n",
    "visualize_clusters(affprop, \"Affinity Propogation\");"
   ]
  },
  {
   "cell_type": "markdown",
   "metadata": {},
   "source": [
    "## Compare Clusterings by Score"
   ]
  },
  {
   "cell_type": "code",
   "execution_count": 319,
   "metadata": {},
   "outputs": [],
   "source": [
    "X1A, X3A, y1A, y3A = train_test_split(X_tfidf_tr, y_train, test_size=.5)\n",
    "X1, X2, y1, y2 = train_test_split(X1A, y1A, test_size=.5)\n",
    "X3, X4, y3, y4 = train_test_split(X3A, y3A, test_size=.5)\n",
    "Xset= [X1, X2, X3, X4]"
   ]
  },
  {
   "cell_type": "code",
   "execution_count": 320,
   "metadata": {},
   "outputs": [],
   "source": [
    "def sil_score(model, X_set=Xset):\n",
    "    score = []\n",
    "    for sample in X_set:\n",
    "        model = model.fit(sample)\n",
    "        labels = model.labels_\n",
    "        score.append(silhouette_score(sample, labels, metric='euclidean'))\n",
    "    return score"
   ]
  },
  {
   "cell_type": "code",
   "execution_count": 321,
   "metadata": {
    "scrolled": true
   },
   "outputs": [],
   "source": [
    "cluster_score_df = pd.DataFrame(columns=[\"X1\", \"X2\", \"X3\", \"X4\"])\n",
    "cluster_score_df.loc[\"affprop\"] = sil_score(affprop)\n",
    "#too few clusters to run on subsample without error given min requirements for silhouette score\n",
    "#cluster_score_df.loc[\"DBs1\"] = sil_score(DBs02)\n",
    "#cluster_score_df.loc[\"DBs03\"] = sil_score(DBs03)\n",
    "cluster_score_df.loc[\"k_means10\"] = sil_score(k_means10)\n",
    "cluster_score_df.loc[\"k_means5\"] = sil_score(k_means5)\n",
    "cluster_score_df[\"mean_score\"] = cluster_score_df.mean(axis=1)"
   ]
  },
  {
   "cell_type": "code",
   "execution_count": 322,
   "metadata": {},
   "outputs": [],
   "source": [
    "#add adjusted rand score column\n",
    "cluster_score_df[\"Adjusted_Rand\"] = np.nan\n",
    "cluster_score_df.loc[\"affprop\", \"Adjusted_Rand\"] = adjusted_rand_score(y_train, affprop.fit(X_tfidf_tr).labels_)\n",
    "cluster_score_df.loc[\"k_means10\", \"Adjusted_Rand\"] = adjusted_rand_score(y_train, k_means10.fit(X_tfidf_tr).labels_)\n",
    "cluster_score_df.loc[\"k_means5\", \"Adjusted_Rand\"] = adjusted_rand_score(y_train, k_means5.fit(X_tfidf_tr).labels_)"
   ]
  },
  {
   "cell_type": "code",
   "execution_count": 323,
   "metadata": {},
   "outputs": [
    {
     "data": {
      "text/html": [
       "<div>\n",
       "<style scoped>\n",
       "    .dataframe tbody tr th:only-of-type {\n",
       "        vertical-align: middle;\n",
       "    }\n",
       "\n",
       "    .dataframe tbody tr th {\n",
       "        vertical-align: top;\n",
       "    }\n",
       "\n",
       "    .dataframe thead th {\n",
       "        text-align: right;\n",
       "    }\n",
       "</style>\n",
       "<table border=\"1\" class=\"dataframe\">\n",
       "  <thead>\n",
       "    <tr style=\"text-align: right;\">\n",
       "      <th></th>\n",
       "      <th>X1</th>\n",
       "      <th>X2</th>\n",
       "      <th>X3</th>\n",
       "      <th>X4</th>\n",
       "      <th>mean_score</th>\n",
       "      <th>Adjusted_Rand</th>\n",
       "    </tr>\n",
       "  </thead>\n",
       "  <tbody>\n",
       "    <tr>\n",
       "      <th>affprop</th>\n",
       "      <td>0.020230</td>\n",
       "      <td>0.003430</td>\n",
       "      <td>0.022095</td>\n",
       "      <td>0.016694</td>\n",
       "      <td>0.015612</td>\n",
       "      <td>0.003361</td>\n",
       "    </tr>\n",
       "    <tr>\n",
       "      <th>k_means10</th>\n",
       "      <td>0.005958</td>\n",
       "      <td>0.003873</td>\n",
       "      <td>0.008178</td>\n",
       "      <td>0.010974</td>\n",
       "      <td>0.007246</td>\n",
       "      <td>0.003299</td>\n",
       "    </tr>\n",
       "    <tr>\n",
       "      <th>k_means5</th>\n",
       "      <td>0.011911</td>\n",
       "      <td>0.004132</td>\n",
       "      <td>0.015539</td>\n",
       "      <td>0.010148</td>\n",
       "      <td>0.010433</td>\n",
       "      <td>0.000842</td>\n",
       "    </tr>\n",
       "  </tbody>\n",
       "</table>\n",
       "</div>"
      ],
      "text/plain": [
       "                 X1        X2        X3        X4  mean_score  Adjusted_Rand\n",
       "affprop    0.020230  0.003430  0.022095  0.016694    0.015612       0.003361\n",
       "k_means10  0.005958  0.003873  0.008178  0.010974    0.007246       0.003299\n",
       "k_means5   0.011911  0.004132  0.015539  0.010148    0.010433       0.000842"
      ]
     },
     "execution_count": 323,
     "metadata": {},
     "output_type": "execute_result"
    }
   ],
   "source": [
    "cluster_score_df"
   ]
  },
  {
   "cell_type": "markdown",
   "metadata": {},
   "source": [
    "While some authors have multiple stories, the majority of the texts are one-offs. Thus, for an ideal Rand score, the clusters should be singletons for these authors. This may not be ideal for what we really want the clusters to be doing; we would choose classification if that were the goal."
   ]
  },
  {
   "cell_type": "markdown",
   "metadata": {},
   "source": [
    "# Classification"
   ]
  },
  {
   "cell_type": "code",
   "execution_count": 324,
   "metadata": {},
   "outputs": [],
   "source": [
    "logit = LogisticRegression()\n",
    "nbayes = MultinomialNB()\n",
    "KNNc = KNeighborsClassifier()\n"
   ]
  },
  {
   "cell_type": "code",
   "execution_count": null,
   "metadata": {},
   "outputs": [],
   "source": []
  }
 ],
 "metadata": {
  "kernelspec": {
   "display_name": "Python 3",
   "language": "python",
   "name": "python3"
  },
  "language_info": {
   "codemirror_mode": {
    "name": "ipython",
    "version": 3
   },
   "file_extension": ".py",
   "mimetype": "text/x-python",
   "name": "python",
   "nbconvert_exporter": "python",
   "pygments_lexer": "ipython3",
   "version": "3.7.4"
  }
 },
 "nbformat": 4,
 "nbformat_minor": 2
}
